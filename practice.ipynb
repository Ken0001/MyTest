{
 "cells": [
  {
   "cell_type": "code",
   "execution_count": 2,
   "metadata": {},
   "outputs": [],
   "source": [
    "import numpy as np\n",
    "import pandas as pd"
   ]
  },
  {
   "cell_type": "code",
   "execution_count": 5,
   "metadata": {},
   "outputs": [],
   "source": [
    "ary1 = [[0.00008053, 0.00632823, 0.9849,     0.00869126],\n",
    "        [0.18283638, 0.01720474, 0.15397713, 0.6459817 ],\n",
    "        [0.00001154, 0.9997559,  0.00002661, 0.0002059 ],\n",
    "        [0.00013894, 0.0006666,  0.0437906,  0.9554038 ],\n",
    "        [0.00007402, 0.00019454, 0.00037282, 0.9993587 ],\n",
    "        [0.22130862, 0.00587162, 0.0376923,  0.73512757],\n",
    "        [0.00008973, 0.01520623, 0.00304951, 0.9816545 ],\n",
    "        [0.00296272, 0.00005039, 0.00802642, 0.98896044],\n",
    "        [0.00569498, 0.01379992, 0.00099703, 0.97950804],\n",
    "        [0.01847019, 0.02931657, 0.00009501, 0.9521182 ]]\n",
    "ary = np.array(ary1)"
   ]
  },
  {
   "cell_type": "code",
   "execution_count": 12,
   "metadata": {},
   "outputs": [],
   "source": [
    "#print(np.hsplit(ary, 4)[0])\n",
    "res = np.hsplit(ary, 4)\n",
    "Black = res[0]\n",
    "Mg = res[1]\n",
    "Moth = res[2]\n",
    "Oil = res[3]\n",
    "img = [1,2,3,4,5,6,7,8,9,10]"
   ]
  },
  {
   "cell_type": "code",
   "execution_count": 22,
   "metadata": {},
   "outputs": [],
   "source": [
    "dict = {\n",
    "    \"Image\": img,\n",
    "    \"Black\": Black.flatten(),\n",
    "    \"Mg\": Mg.flatten(),\n",
    "    \"Moth\": Moth.flatten(),\n",
    "    \"Oil\": Oil.flatten()\n",
    "}"
   ]
  },
  {
   "cell_type": "code",
   "execution_count": 23,
   "metadata": {},
   "outputs": [
    {
     "data": {
      "text/plain": [
       "array([8.0530000e-05, 1.8283638e-01, 1.1540000e-05, 1.3894000e-04,\n",
       "       7.4020000e-05, 2.2130862e-01, 8.9730000e-05, 2.9627200e-03,\n",
       "       5.6949800e-03, 1.8470190e-02])"
      ]
     },
     "execution_count": 23,
     "metadata": {},
     "output_type": "execute_result"
    }
   ],
   "source": [
    "#np.reshape(Black,(1,10))\n",
    "Black.flatten()"
   ]
  },
  {
   "cell_type": "code",
   "execution_count": 24,
   "metadata": {},
   "outputs": [
    {
     "data": {
      "text/html": [
       "<div>\n",
       "<style scoped>\n",
       "    .dataframe tbody tr th:only-of-type {\n",
       "        vertical-align: middle;\n",
       "    }\n",
       "\n",
       "    .dataframe tbody tr th {\n",
       "        vertical-align: top;\n",
       "    }\n",
       "\n",
       "    .dataframe thead th {\n",
       "        text-align: right;\n",
       "    }\n",
       "</style>\n",
       "<table border=\"1\" class=\"dataframe\">\n",
       "  <thead>\n",
       "    <tr style=\"text-align: right;\">\n",
       "      <th></th>\n",
       "      <th>Image</th>\n",
       "      <th>Black</th>\n",
       "      <th>Mg</th>\n",
       "      <th>Moth</th>\n",
       "      <th>Oil</th>\n",
       "    </tr>\n",
       "  </thead>\n",
       "  <tbody>\n",
       "    <tr>\n",
       "      <th>0</th>\n",
       "      <td>1</td>\n",
       "      <td>0.000081</td>\n",
       "      <td>0.006328</td>\n",
       "      <td>0.984900</td>\n",
       "      <td>0.008691</td>\n",
       "    </tr>\n",
       "    <tr>\n",
       "      <th>1</th>\n",
       "      <td>2</td>\n",
       "      <td>0.182836</td>\n",
       "      <td>0.017205</td>\n",
       "      <td>0.153977</td>\n",
       "      <td>0.645982</td>\n",
       "    </tr>\n",
       "    <tr>\n",
       "      <th>2</th>\n",
       "      <td>3</td>\n",
       "      <td>0.000012</td>\n",
       "      <td>0.999756</td>\n",
       "      <td>0.000027</td>\n",
       "      <td>0.000206</td>\n",
       "    </tr>\n",
       "    <tr>\n",
       "      <th>3</th>\n",
       "      <td>4</td>\n",
       "      <td>0.000139</td>\n",
       "      <td>0.000667</td>\n",
       "      <td>0.043791</td>\n",
       "      <td>0.955404</td>\n",
       "    </tr>\n",
       "    <tr>\n",
       "      <th>4</th>\n",
       "      <td>5</td>\n",
       "      <td>0.000074</td>\n",
       "      <td>0.000195</td>\n",
       "      <td>0.000373</td>\n",
       "      <td>0.999359</td>\n",
       "    </tr>\n",
       "    <tr>\n",
       "      <th>5</th>\n",
       "      <td>6</td>\n",
       "      <td>0.221309</td>\n",
       "      <td>0.005872</td>\n",
       "      <td>0.037692</td>\n",
       "      <td>0.735128</td>\n",
       "    </tr>\n",
       "    <tr>\n",
       "      <th>6</th>\n",
       "      <td>7</td>\n",
       "      <td>0.000090</td>\n",
       "      <td>0.015206</td>\n",
       "      <td>0.003050</td>\n",
       "      <td>0.981654</td>\n",
       "    </tr>\n",
       "    <tr>\n",
       "      <th>7</th>\n",
       "      <td>8</td>\n",
       "      <td>0.002963</td>\n",
       "      <td>0.000050</td>\n",
       "      <td>0.008026</td>\n",
       "      <td>0.988960</td>\n",
       "    </tr>\n",
       "    <tr>\n",
       "      <th>8</th>\n",
       "      <td>9</td>\n",
       "      <td>0.005695</td>\n",
       "      <td>0.013800</td>\n",
       "      <td>0.000997</td>\n",
       "      <td>0.979508</td>\n",
       "    </tr>\n",
       "    <tr>\n",
       "      <th>9</th>\n",
       "      <td>10</td>\n",
       "      <td>0.018470</td>\n",
       "      <td>0.029317</td>\n",
       "      <td>0.000095</td>\n",
       "      <td>0.952118</td>\n",
       "    </tr>\n",
       "  </tbody>\n",
       "</table>\n",
       "</div>"
      ],
      "text/plain": [
       "   Image     Black        Mg      Moth       Oil\n",
       "0      1  0.000081  0.006328  0.984900  0.008691\n",
       "1      2  0.182836  0.017205  0.153977  0.645982\n",
       "2      3  0.000012  0.999756  0.000027  0.000206\n",
       "3      4  0.000139  0.000667  0.043791  0.955404\n",
       "4      5  0.000074  0.000195  0.000373  0.999359\n",
       "5      6  0.221309  0.005872  0.037692  0.735128\n",
       "6      7  0.000090  0.015206  0.003050  0.981654\n",
       "7      8  0.002963  0.000050  0.008026  0.988960\n",
       "8      9  0.005695  0.013800  0.000997  0.979508\n",
       "9     10  0.018470  0.029317  0.000095  0.952118"
      ]
     },
     "execution_count": 24,
     "metadata": {},
     "output_type": "execute_result"
    }
   ],
   "source": [
    "pd.DataFrame(dict)"
   ]
  },
  {
   "cell_type": "code",
   "execution_count": null,
   "metadata": {},
   "outputs": [],
   "source": []
  }
 ],
 "metadata": {
  "kernelspec": {
   "display_name": "Python 3",
   "language": "python",
   "name": "python3"
  },
  "language_info": {
   "codemirror_mode": {
    "name": "ipython",
    "version": 3
   },
   "file_extension": ".py",
   "mimetype": "text/x-python",
   "name": "python",
   "nbconvert_exporter": "python",
   "pygments_lexer": "ipython3",
   "version": "3.7.3"
  }
 },
 "nbformat": 4,
 "nbformat_minor": 2
}
